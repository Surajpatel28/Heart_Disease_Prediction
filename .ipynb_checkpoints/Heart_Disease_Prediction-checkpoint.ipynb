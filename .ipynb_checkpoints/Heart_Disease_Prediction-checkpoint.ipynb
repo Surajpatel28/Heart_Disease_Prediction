{
 "cells": [
  {
   "cell_type": "markdown",
   "id": "a3928e0d-72e8-4be5-8e3e-0dafbb562a7d",
   "metadata": {},
   "source": [
    "## Importing the Dependencies"
   ]
  },
  {
   "cell_type": "code",
   "execution_count": null,
   "id": "1b33f20a-2462-4b8f-a320-6215e12ef952",
   "metadata": {},
   "outputs": [],
   "source": [
    "import numpy as np\n",
    "import pandas as pd\n",
    "from sklearn.model_selection import train_test_split\n",
    "from sklearn.linear_model import LogisticRegression\n",
    "from sklearn.metrics import accuracy_score"
   ]
  },
  {
   "cell_type": "markdown",
   "id": "1aace387-592f-4fc6-b625-84761bd22975",
   "metadata": {},
   "source": [
    "## Data Collection and Processing"
   ]
  },
  {
   "cell_type": "code",
   "execution_count": null,
   "id": "df554c88-7e53-46fa-b77a-cf797eb9603a",
   "metadata": {},
   "outputs": [],
   "source": [
    "# Load the dataset\n",
    "heart_data = pd.read_csv('heart.csv')"
   ]
  },
  {
   "cell_type": "code",
   "execution_count": null,
   "id": "26d55a37-3844-4565-889d-5025965e18ee",
   "metadata": {},
   "outputs": [],
   "source": [
    "# print first five rows of dataset\n",
    "heart_data.head()"
   ]
  },
  {
   "cell_type": "code",
   "execution_count": null,
   "id": "445d9e05-0cfc-429d-a87a-5fe4949eabc8",
   "metadata": {},
   "outputs": [],
   "source": [
    "# print last five rows of dataset\n",
    "heart_data.tail()"
   ]
  },
  {
   "cell_type": "code",
   "execution_count": null,
   "id": "62b42424-6a10-4b91-8f34-4fcdb3a2316f",
   "metadata": {},
   "outputs": [],
   "source": [
    "# number of rows and cols in dataset\n",
    "heart_data.shape"
   ]
  },
  {
   "cell_type": "code",
   "execution_count": null,
   "id": "b8076e15-eb3b-45a5-8f43-3e1abb64cf50",
   "metadata": {},
   "outputs": [],
   "source": [
    "# getting some info about the data\n",
    "heart_data.info()"
   ]
  },
  {
   "cell_type": "code",
   "execution_count": null,
   "id": "bc94a462-c653-4c15-a97c-aee4acae5f5d",
   "metadata": {},
   "outputs": [],
   "source": [
    "# checking for missing values\n",
    "heart_data.isnull().sum()"
   ]
  },
  {
   "cell_type": "code",
   "execution_count": null,
   "id": "c449e0b5-467a-4a06-a4df-3a87536754c6",
   "metadata": {},
   "outputs": [],
   "source": [
    "# statistical measures of the data\n",
    "heart_data.describe()"
   ]
  },
  {
   "cell_type": "code",
   "execution_count": null,
   "id": "d8b6536b-cd26-471c-acc6-2dc07ab1ca87",
   "metadata": {},
   "outputs": [],
   "source": [
    "# checking the distribution of target variable\n",
    "heart_data['target'].value_counts()"
   ]
  },
  {
   "cell_type": "markdown",
   "id": "0db7d61d-fd18-4517-ab33-f8f29e085c8c",
   "metadata": {},
   "source": [
    "1 ---> Defective Heart \\\n",
    "0 ---> Healthy Heart"
   ]
  },
  {
   "cell_type": "markdown",
   "id": "d671de7b-c5e8-427e-8f2f-68aff4f4c8e3",
   "metadata": {},
   "source": [
    "## Splitting the features and the target"
   ]
  },
  {
   "cell_type": "code",
   "execution_count": null,
   "id": "b38b2287-2596-4506-890e-9522992d299c",
   "metadata": {},
   "outputs": [],
   "source": [
    "X = heart_data.drop(columns='target', axis=1)\n",
    "Y = heart_data['target']"
   ]
  },
  {
   "cell_type": "code",
   "execution_count": null,
   "id": "2eaa9b61-b210-482f-b431-859f39a6e74c",
   "metadata": {},
   "outputs": [],
   "source": [
    "print(X)"
   ]
  },
  {
   "cell_type": "code",
   "execution_count": null,
   "id": "6b0b29bb-1966-4afe-bb29-89b131e42f68",
   "metadata": {},
   "outputs": [],
   "source": [
    "print(Y)"
   ]
  },
  {
   "cell_type": "markdown",
   "id": "162e2257-75c3-478c-99cc-ed1c2ac317c0",
   "metadata": {},
   "source": [
    "# Splitting the data into training data and test data"
   ]
  },
  {
   "cell_type": "code",
   "execution_count": null,
   "id": "0b6168c4-2980-4a79-a272-d296769160d0",
   "metadata": {},
   "outputs": [],
   "source": [
    "X_train, X_test, Y_train, Y_test = train_test_split(X, Y, test_size=0.2, stratify=Y, random_state=2)"
   ]
  },
  {
   "cell_type": "code",
   "execution_count": null,
   "id": "7c581c3f-4044-49bc-af5b-e5be95420c5f",
   "metadata": {},
   "outputs": [],
   "source": [
    "print(X.shape, X_train.shape, X_test.shape)"
   ]
  },
  {
   "cell_type": "markdown",
   "id": "3e7447c0-723b-495f-afef-a210b6d637cc",
   "metadata": {},
   "source": [
    "# model training\n",
    "- Logistic Regresion"
   ]
  },
  {
   "cell_type": "code",
   "execution_count": null,
   "id": "2a144d5b-5d0d-42e8-b41f-7002514db585",
   "metadata": {},
   "outputs": [],
   "source": [
    "model = LogisticRegression()"
   ]
  },
  {
   "cell_type": "code",
   "execution_count": null,
   "id": "85a8b237-2842-4e17-98b7-677bc598f682",
   "metadata": {},
   "outputs": [],
   "source": [
    "# training the logistic regression model with training data\n",
    "model.fit(X_train, Y_train)"
   ]
  },
  {
   "cell_type": "markdown",
   "id": "984eb749-f8a4-4490-8c00-3f3dcc110411",
   "metadata": {},
   "source": [
    "# Model Evaluation\n",
    "- Accuracy score"
   ]
  },
  {
   "cell_type": "code",
   "execution_count": null,
   "id": "21bb2366-88c9-4455-a615-83cff2e994e0",
   "metadata": {},
   "outputs": [],
   "source": [
    "# accuracy on training data \n",
    "X_train_prediction = model.predict(X_train)\n",
    "training_data_accuracy = accuracy_score(X_train_prediction, Y_train)"
   ]
  },
  {
   "cell_type": "code",
   "execution_count": null,
   "id": "3bd7e526-8086-47e2-aaef-e41948e7e75b",
   "metadata": {},
   "outputs": [],
   "source": [
    "print('Accuracy on training data : ', training_data_accuracy)"
   ]
  },
  {
   "cell_type": "code",
   "execution_count": null,
   "id": "23169931-8116-4662-bbed-a0d441363ba5",
   "metadata": {},
   "outputs": [],
   "source": [
    "# accuracy on test data \n",
    "X_test_prediction = model.predict(X_test)\n",
    "test_data_accuracy = accuracy_score(X_test_prediction, Y_test)"
   ]
  },
  {
   "cell_type": "code",
   "execution_count": null,
   "id": "36103550-e467-48f3-805c-0442e237c3ce",
   "metadata": {},
   "outputs": [],
   "source": [
    "print('Accuracy on Test Data: ', test_data_accuracy)"
   ]
  },
  {
   "cell_type": "markdown",
   "id": "2d8fa8c9-d672-4d07-b672-14b041eb650b",
   "metadata": {},
   "source": [
    " # Build a predictive system "
   ]
  },
  {
   "cell_type": "code",
   "execution_count": null,
   "id": "7343bf18-f27b-4278-a978-d616f386f39e",
   "metadata": {},
   "outputs": [],
   "source": [
    "input_data = (41,0,1,130,204,0,0,172,0,1.4,2,0,2)\n",
    "\n",
    "# change the input data to a numpy array\n",
    "input_data_as_numpy_array = np.asarray(input_data)\n",
    "# reshape the numpy array as we are predicting only one instance\n",
    "input_data_reshaped = input_data_as_numpy_array.reshape(1,-1)\n",
    "\n",
    "prediction = model.predict(input_data_reshaped)\n",
    "print(prediction)\n",
    "\n",
    "if prediction[0] == 0 :\n",
    "    print('The person does not have a heart disease')\n",
    "else:\n",
    "    print('The person has a heart disease')"
   ]
  },
  {
   "cell_type": "code",
   "execution_count": null,
   "id": "4687847c-db1d-4f2f-b57b-94dc4838b278",
   "metadata": {},
   "outputs": [],
   "source": []
  }
 ],
 "metadata": {
  "kernelspec": {
   "display_name": "Python 3 (ipykernel)",
   "language": "python",
   "name": "python3"
  },
  "language_info": {
   "codemirror_mode": {
    "name": "ipython",
    "version": 3
   },
   "file_extension": ".py",
   "mimetype": "text/x-python",
   "name": "python",
   "nbconvert_exporter": "python",
   "pygments_lexer": "ipython3",
   "version": "3.12.3"
  }
 },
 "nbformat": 4,
 "nbformat_minor": 5
}
